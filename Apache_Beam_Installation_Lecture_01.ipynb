{
  "nbformat": 4,
  "nbformat_minor": 0,
  "metadata": {
    "colab": {
      "name": "Apache Beam Installation Lecture 01.ipynb",
      "provenance": [],
      "authorship_tag": "ABX9TyP3sdGcwrIJ1S24uFkc4SzR",
      "include_colab_link": true
    },
    "kernelspec": {
      "name": "python3",
      "display_name": "Python 3"
    },
    "language_info": {
      "name": "python"
    }
  },
  "cells": [
    {
      "cell_type": "markdown",
      "metadata": {
        "id": "view-in-github",
        "colab_type": "text"
      },
      "source": [
        "<a href=\"https://colab.research.google.com/github/lahariuvaraj/Apache-Beam/blob/main/Apache_Beam_Installation_Lecture_01.ipynb\" target=\"_parent\"><img src=\"https://colab.research.google.com/assets/colab-badge.svg\" alt=\"Open In Colab\"/></a>"
      ]
    },
    {
      "cell_type": "code",
      "execution_count": null,
      "metadata": {
        "id": "iekM3Khyg2JN"
      },
      "outputs": [],
      "source": [
        "!{'pip install --quiet apache_beam'}"
      ]
    },
    {
      "cell_type": "code",
      "source": [
        "!ls"
      ],
      "metadata": {
        "colab": {
          "base_uri": "https://localhost:8080/"
        },
        "id": "-IS6-Uf_hUpw",
        "outputId": "1d24bb62-1d2c-48de-adb8-78bf00126ef2"
      },
      "execution_count": null,
      "outputs": [
        {
          "output_type": "stream",
          "name": "stdout",
          "text": [
            "sample_data\n"
          ]
        }
      ]
    },
    {
      "cell_type": "code",
      "source": [
        "!{'mkdir -p installation-setup'}"
      ],
      "metadata": {
        "id": "8elyYOyqhddX"
      },
      "execution_count": null,
      "outputs": []
    }
  ]
}